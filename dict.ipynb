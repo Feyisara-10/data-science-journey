{
 "cells": [
  {
   "cell_type": "code",
   "execution_count": 2,
   "id": "8bd48520-bd4e-4cf8-bbe8-377cd909c36b",
   "metadata": {},
   "outputs": [
    {
     "name": "stdout",
     "output_type": "stream",
     "text": [
      "42\n",
      "{'title': 'Oyedeji', 'gender': 'Male', 'state of origin': 'Osun', 'age': 42}\n"
     ]
    }
   ],
   "source": [
    "citizen = {\n",
    "    \"title\": \"Oyedeji\",\n",
    "    \"gender\": \"Male\",\n",
    "    \"state of origin\": \"Osun\",\n",
    "    \"age\": 42\n",
    "}\n",
    "print(citizen[\"age\"]) \n",
    "print(citizen)"
   ]
  },
  {
   "cell_type": "code",
   "execution_count": null,
   "id": "677621f6-584a-4972-8a40-e83575c12aaa",
   "metadata": {},
   "outputs": [],
   "source": []
  }
 ],
 "metadata": {
  "kernelspec": {
   "display_name": "Python [conda env:base] *",
   "language": "python",
   "name": "conda-base-py"
  },
  "language_info": {
   "codemirror_mode": {
    "name": "ipython",
    "version": 3
   },
   "file_extension": ".py",
   "mimetype": "text/x-python",
   "name": "python",
   "nbconvert_exporter": "python",
   "pygments_lexer": "ipython3",
   "version": "3.13.5"
  }
 },
 "nbformat": 4,
 "nbformat_minor": 5
}
