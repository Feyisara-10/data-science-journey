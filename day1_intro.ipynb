{
 "cells": [
  {
   "cell_type": "code",
   "execution_count": 8,
   "id": "6dbcf57a-ff0c-421e-9b77-d9116bae5a23",
   "metadata": {},
   "outputs": [
    {
     "name": "stdout",
     "output_type": "stream",
     "text": [
      "Hello Data Science !\n",
      "Feyisara is my name. \n",
      "The result of 3 *  (21-3) =  54\n",
      "My name is Yousouph, and I am 16 years old. My aim is to become a world class certified data scientist !\n"
     ]
    }
   ],
   "source": [
    "print (\"Hello Data Science !\")\n",
    "print (\"Feyisara is my name. \")\n",
    "result = 3 * (21-3)\n",
    "print (\"The result of 3 *  (21-3) = \", result)\n",
    "\n",
    "\n",
    "name = \"Yousouph\"\n",
    "age = 16\n",
    "goal = \"become a world class certified data scientist\"\n",
    "\n",
    "print (f\"My name is {name}, and I am {age} years old. My aim is to {goal} !\")"
   ]
  },
  {
   "cell_type": "code",
   "execution_count": null,
   "id": "7199535d-6b88-4ad4-8559-924d07c1ccda",
   "metadata": {},
   "outputs": [],
   "source": []
  },
  {
   "cell_type": "code",
   "execution_count": null,
   "id": "d9a7be3a-ec34-4c97-9b6e-62b7eb18f019",
   "metadata": {},
   "outputs": [],
   "source": []
  }
 ],
 "metadata": {
  "kernelspec": {
   "display_name": "Python [conda env:base] *",
   "language": "python",
   "name": "conda-base-py"
  },
  "language_info": {
   "codemirror_mode": {
    "name": "ipython",
    "version": 3
   },
   "file_extension": ".py",
   "mimetype": "text/x-python",
   "name": "python",
   "nbconvert_exporter": "python",
   "pygments_lexer": "ipython3",
   "version": "3.13.5"
  }
 },
 "nbformat": 4,
 "nbformat_minor": 5
}
